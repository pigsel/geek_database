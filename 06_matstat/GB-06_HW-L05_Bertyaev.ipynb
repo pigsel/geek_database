{
 "cells": [
  {
   "cell_type": "markdown",
   "metadata": {},
   "source": [
    "**Теория вероятностей и математическая статистика**\n",
    "\n",
    "\n",
    "**Урок 5.** Проверка статистических гипотез. P-значения. Доверительные интервалы. A/B-тестирование\n",
    "\n",
    "Домашнее задание  \n",
    "автор: **Игорь Бертяев**"
   ]
  },
  {
   "cell_type": "markdown",
   "metadata": {},
   "source": [
    "### задание 1\n",
    "\n",
    "Известно, что генеральная совокупность распределена нормально со средним квадратическим отклонением, равным 16.  \n",
    "Найти доверительный интервал для оценки математического ожидания a с надежностью 0.95,  \n",
    "если выборочная средняя M = 80, а объем выборки n = 256.\n",
    "\n",
    "Решение:  \n",
    "используя формулу доверительного интервала"
   ]
  },
  {
   "cell_type": "markdown",
   "metadata": {},
   "source": [
    "$$T_{1,2} = \\overline{X} \\pm Kp \\frac{\\sigma}{\\sqrt{n}}$$ \n",
    "  \n",
    "подставив наши значения (Kp для 2,5% = 1,96):\n",
    "\n",
    "$$T_{1,2} = 80 \\pm 1.96 \\frac{16}{\\sqrt{256}}$$ "
   ]
  },
  {
   "cell_type": "code",
   "execution_count": 2,
   "metadata": {},
   "outputs": [],
   "source": [
    "import numpy as np"
   ]
  },
  {
   "cell_type": "code",
   "execution_count": 6,
   "metadata": {},
   "outputs": [
    {
     "data": {
      "text/plain": [
       "81.96"
      ]
     },
     "execution_count": 6,
     "metadata": {},
     "output_type": "execute_result"
    }
   ],
   "source": [
    "T1 = 80 + 1.96*(16/np.sqrt(256))\n",
    "T1"
   ]
  },
  {
   "cell_type": "code",
   "execution_count": 7,
   "metadata": {},
   "outputs": [
    {
     "data": {
      "text/plain": [
       "78.04"
      ]
     },
     "execution_count": 7,
     "metadata": {},
     "output_type": "execute_result"
    }
   ],
   "source": [
    "T2 = 80 - 1.96*(16/np.sqrt(256))\n",
    "T2"
   ]
  },
  {
   "cell_type": "markdown",
   "metadata": {},
   "source": [
    "итого доверительный интервал получается [78.04;81.96] "
   ]
  },
  {
   "cell_type": "markdown",
   "metadata": {},
   "source": [
    "### задание 2\n",
    "\n",
    "В результате 10 независимых измерений некоторой величины X, выполненных с одинаковой точностью,  \n",
    "получены опытные данные: 6.9, 6.1, 6.2, 6.8, 7.5, 6.3, 6.4, 6.9, 6.7, 6.1   \n",
    "Предполагая, что результаты измерений подчинены нормальному закону распределения вероятностей,  \n",
    "оценить истинное значение величины X при помощи доверительного интервала,  \n",
    "покрывающего это значение с доверительной вероятностью 0,95. \n",
    "\n",
    "\n",
    "Решение:  \n",
    "также используем формулу доверительного интервала"
   ]
  },
  {
   "cell_type": "markdown",
   "metadata": {},
   "source": [
    "$$T_{1,2} = \\overline{X} \\pm Kp \\frac{\\sigma}{\\sqrt{n}}$$ \n",
    "  \n",
    "критерий для 95% будет равен Kp = 1,96 (для каждой стороны)  \n",
    "среднее значение выборки будет:"
   ]
  },
  {
   "cell_type": "code",
   "execution_count": 12,
   "metadata": {},
   "outputs": [
    {
     "data": {
      "text/plain": [
       "6.590000000000001"
      ]
     },
     "execution_count": 12,
     "metadata": {},
     "output_type": "execute_result"
    }
   ],
   "source": [
    "x = np.array([6.9, 6.1, 6.2, 6.8, 7.5, 6.3, 6.4, 6.9, 6.7, 6.1])\n",
    "x.mean()"
   ]
  },
  {
   "cell_type": "markdown",
   "metadata": {},
   "source": [
    "также нам нужно найти сигму (СКО)"
   ]
  },
  {
   "cell_type": "code",
   "execution_count": 15,
   "metadata": {},
   "outputs": [
    {
     "data": {
      "text/plain": [
       "0.42766809560686203"
      ]
     },
     "execution_count": 15,
     "metadata": {},
     "output_type": "execute_result"
    }
   ],
   "source": [
    "x.std()"
   ]
  },
  {
   "cell_type": "markdown",
   "metadata": {},
   "source": [
    "теперь подставляем значения в формулу:"
   ]
  },
  {
   "cell_type": "code",
   "execution_count": 17,
   "metadata": {},
   "outputs": [
    {
     "data": {
      "text/plain": [
       "6.855071431882051"
      ]
     },
     "execution_count": 17,
     "metadata": {},
     "output_type": "execute_result"
    }
   ],
   "source": [
    "T_1 = x.mean() + 1.96*(x.std()/np.sqrt(10))\n",
    "T_1"
   ]
  },
  {
   "cell_type": "code",
   "execution_count": 20,
   "metadata": {},
   "outputs": [
    {
     "data": {
      "text/plain": [
       "6.324928568117951"
      ]
     },
     "execution_count": 20,
     "metadata": {},
     "output_type": "execute_result"
    }
   ],
   "source": [
    "T_2 = x.mean() - 1.96*(x.std()/np.sqrt(10))\n",
    "T_2"
   ]
  },
  {
   "cell_type": "markdown",
   "metadata": {},
   "source": [
    "таким образом мы нашли что величина Х с вероятностью 95% должна находится в интервале [6.325;6.855]"
   ]
  },
  {
   "cell_type": "markdown",
   "metadata": {},
   "source": [
    "### задание 3 \n",
    "\n",
    "Утверждается, что шарики для подшипников, изготовленные автоматическим станком, имеют средний диаметр 17 мм.  \n",
    "Используя односторонний критерий с α=0,05, проверить эту гипотезу, если в выборке из n=100 шариков  \n",
    "средний диаметр оказался равным 17.5 мм, а дисперсия известна и равна 4 кв.мм. \n",
    "\n",
    "Решение:  \n",
    "H0 = 17  \n",
    "H1 = 17.5  \n",
    "сравним критерий табличный и наблюдаемый, используем Z-тест"
   ]
  },
  {
   "cell_type": "code",
   "execution_count": 29,
   "metadata": {},
   "outputs": [
    {
     "data": {
      "text/plain": [
       "2.5"
      ]
     },
     "execution_count": 29,
     "metadata": {},
     "output_type": "execute_result"
    }
   ],
   "source": [
    "Zn = (17.5-17) / (np.sqrt(4)/np.sqrt(100))\n",
    "Zn"
   ]
  },
  {
   "cell_type": "markdown",
   "metadata": {},
   "source": [
    "Теперь, зная табличную величину Zt = 1.645 и наблюдаемую Zn = 2.5 можем заключить что Н0 не верна при а=0,05, т.е. исходную гипотезу мы отвергаем. "
   ]
  },
  {
   "cell_type": "markdown",
   "metadata": {},
   "source": [
    "### задание 4\n",
    "\n",
    "Продавец утверждает, что средний вес пачки печенья составляет 200 г. Из партии извлечена выборка из 10 пачек.  \n",
    "Вес каждой пачки составляет: 202, 203, 199, 197, 195, 201, 200, 204, 194, 190. \n",
    "Известно, что их веса распределены нормально. Верно ли утверждение продавца, если учитывать, \n",
    "что доверительная вероятность равна 99%?\n",
    "\n",
    "Решение: не совсем понял как быть с двусторонним тестом (та же формула или нет) поэтому я решаю как односторонний.  \n",
    "так же как и в предыдущей задаче сравним критерии - табличный и наблюдаемый.  \n",
    "табличный критерий найдем исходя из того что 1%  по таблице найдем Z = 2.33"
   ]
  },
  {
   "cell_type": "code",
   "execution_count": 27,
   "metadata": {},
   "outputs": [
    {
     "data": {
      "text/plain": [
       "198.5"
      ]
     },
     "execution_count": 27,
     "metadata": {},
     "output_type": "execute_result"
    }
   ],
   "source": [
    "# найдем среднее\n",
    "z = np.array([202, 203, 199, 197, 195, 201, 200, 204, 194, 190])  \n",
    "z.mean()  "
   ]
  },
  {
   "cell_type": "code",
   "execution_count": 30,
   "metadata": {},
   "outputs": [
    {
     "data": {
      "text/plain": [
       "4.224926034855522"
      ]
     },
     "execution_count": 30,
     "metadata": {},
     "output_type": "execute_result"
    }
   ],
   "source": [
    "z.std()"
   ]
  },
  {
   "cell_type": "code",
   "execution_count": 31,
   "metadata": {},
   "outputs": [
    {
     "data": {
      "text/plain": [
       "-2.307692307692308"
      ]
     },
     "execution_count": 31,
     "metadata": {},
     "output_type": "execute_result"
    }
   ],
   "source": [
    "Z_n = (198.5-200) / (np.sqrt(4.225)/np.sqrt(10))\n",
    "Z_n"
   ]
  },
  {
   "cell_type": "markdown",
   "metadata": {},
   "source": [
    "в результате -2,308 полуучается лежит внутри основной площади - т.е. ближе табличного значения -2,33, значит гипотиза продавца верная.  "
   ]
  },
  {
   "cell_type": "markdown",
   "metadata": {},
   "source": [
    "Хотя на ппервый взгляд получается что М0 не равна М, т.е. уже не двусторонняя, немнго тут не понятно выходит. "
   ]
  }
 ],
 "metadata": {
  "kernelspec": {
   "display_name": "Python 3",
   "language": "python",
   "name": "python3"
  },
  "language_info": {
   "codemirror_mode": {
    "name": "ipython",
    "version": 3
   },
   "file_extension": ".py",
   "mimetype": "text/x-python",
   "name": "python",
   "nbconvert_exporter": "python",
   "pygments_lexer": "ipython3",
   "version": "3.7.5"
  }
 },
 "nbformat": 4,
 "nbformat_minor": 2
}
