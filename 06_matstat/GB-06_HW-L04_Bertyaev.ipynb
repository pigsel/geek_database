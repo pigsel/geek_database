{
 "cells": [
  {
   "cell_type": "markdown",
   "metadata": {},
   "source": [
    "**Теория вероятностей и математическая статистика**\n",
    "\n",
    "\n",
    "**Урок 4.** Непрерывные случайные величины. \n",
    "Функция распределения и плотность распределения вероятностей. \n",
    "Равномерное и нормальное распределение. Центральная предельная теорема\n",
    "\n",
    "Домашнее задание  \n",
    "автор: **Игорь Бертяев**"
   ]
  },
  {
   "cell_type": "markdown",
   "metadata": {},
   "source": [
    "### задание 1\n",
    "\n",
    "Случайная непрерывная величина A имеет равномерное распределение на промежутке (200, 800].  \n",
    "Найдите ее среднее значение и дисперсию.\n",
    "\n",
    "Решение: "
   ]
  },
  {
   "cell_type": "code",
   "execution_count": 9,
   "metadata": {},
   "outputs": [
    {
     "data": {
      "text/plain": [
       "500.0"
      ]
     },
     "execution_count": 9,
     "metadata": {},
     "output_type": "execute_result"
    }
   ],
   "source": [
    "# среднее значение определим по формуле (a + b) / 2 : \n",
    "M = (200+800)/2\n",
    "M"
   ]
  },
  {
   "cell_type": "code",
   "execution_count": 8,
   "metadata": {},
   "outputs": [
    {
     "data": {
      "text/plain": [
       "30000.0"
      ]
     },
     "execution_count": 8,
     "metadata": {},
     "output_type": "execute_result"
    }
   ],
   "source": [
    "# дисперсию определим по формуле (b - a)**2 / 12 :\n",
    "D = (800-200)**2 / 12\n",
    "D"
   ]
  },
  {
   "cell_type": "markdown",
   "metadata": {},
   "source": [
    "### задание 2\n",
    "\n",
    "О случайной непрерывной равномерно распределенной величине B известно, что ее дисперсия равна 0.2.\n",
    "Можно ли найти правую границу величины B и ее среднее значение зная, что левая граница равна 0.5?\n",
    "Если да, найдите ее.\n",
    "\n",
    "Решение: "
   ]
  },
  {
   "cell_type": "code",
   "execution_count": 16,
   "metadata": {},
   "outputs": [],
   "source": [
    "import numpy as np"
   ]
  },
  {
   "cell_type": "code",
   "execution_count": 20,
   "metadata": {},
   "outputs": [
    {
     "data": {
      "text/plain": [
       "2.049193338482967"
      ]
     },
     "execution_count": 20,
     "metadata": {},
     "output_type": "execute_result"
    }
   ],
   "source": [
    "# 0.2 = (b-0.5)**2 / 12  - зная формулу дисперсии определим правую границу\n",
    "# 0.2*12 = (b-0.5)**2\n",
    "# sqrt(0.2*12) = b - 0.5\n",
    "# sqrt(0.2*12) + 0.5 = b\n",
    "b = np.sqrt(0.2*12) + 0.5\n",
    "b"
   ]
  },
  {
   "cell_type": "code",
   "execution_count": 22,
   "metadata": {},
   "outputs": [
    {
     "data": {
      "text/plain": [
       "1.2745966692414834"
      ]
     },
     "execution_count": 22,
     "metadata": {},
     "output_type": "execute_result"
    }
   ],
   "source": [
    "# теперь найдем среднее значение\n",
    "(0.5 + b)/2"
   ]
  },
  {
   "cell_type": "markdown",
   "metadata": {},
   "source": [
    "### задание 3\n",
    "\n",
    "Непрерывная случайная величина X распределена нормально и задана плотностью распределения  \n",
    "f(x) = (1 / (4 * sqrt(2*pi))) * (exp(-(x+2)**2) / 32)  \n",
    "\n",
    "Найдите:  \n",
    "а). M(X)  \n",
    "б). D(X)  \n",
    "в). std(X) (среднее квадратичное отклонение)  \n",
    "\n",
    "Решение: "
   ]
  },
  {
   "cell_type": "markdown",
   "metadata": {},
   "source": [
    "зная формулу плотности распределения при нормальном распределении:  \n",
    "  \n",
    "$$f(x) = \\frac{1}{\\sigma \\sqrt{2 \\pi}} e ^ {- \\frac{(x - a)^2}{2 \\sigma^2}},$$  \n",
    "  \n",
    "где $a = M(X), \\; \\sigma^2 = D(X).$ "
   ]
  },
  {
   "cell_type": "markdown",
   "metadata": {},
   "source": [
    "найдем из данной в условии формулы:  \n",
    "M(X) = -2  \n",
    "D(X) = 16  \n",
    "std(X) = 4"
   ]
  },
  {
   "cell_type": "markdown",
   "metadata": {},
   "source": [
    "### задание 4\n",
    "\n",
    "Рост взрослого населения города X имеет нормальное распределение.  \n",
    "Причем, средний рост равен 174 см, а среднее квадратичное отклонение равно 8 см.  \n",
    "Какова вероятность того, что случайным образом выбранный взрослый человек имеет рост:  \n",
    "а). больше 182 см  \n",
    "б). больше 190 см  \n",
    "в). от 166 см до 190 см  \n",
    "г). от 166 см до 182 см  \n",
    "д). от 158 см до 190 см  \n",
    "е). не выше 150 см или не ниже 190 см  \n",
    "ё). не выше 150 см или не ниже 198 см  \n",
    "ж). ниже 166 см.  \n",
    "  \n",
    "Решение: "
   ]
  },
  {
   "cell_type": "markdown",
   "metadata": {},
   "source": [
    "a) интервал  166 - 174 - 182  - является от минус сигмы до сигмы = 68%,  \n",
    "тогда вероятность значения больше 182 будет 32/2 = 16%  \n",
    "   \n",
    "б) тут интервал уже 2 сигмы - т.е. меньше 95,4%.  \n",
    "Делим остаток пополам, т.к. ищем только один край - получаем 2,3%  \n",
    "   \n",
    "в) от минус сигмы до двух сигм:"
   ]
  },
  {
   "cell_type": "code",
   "execution_count": 3,
   "metadata": {},
   "outputs": [
    {
     "data": {
      "text/plain": [
       "81.7"
      ]
     },
     "execution_count": 3,
     "metadata": {},
     "output_type": "execute_result"
    }
   ],
   "source": [
    "68 + (95.4-68)/2"
   ]
  },
  {
   "cell_type": "markdown",
   "metadata": {},
   "source": [
    "г) от минус сигмы до сигмы = 68%  \n",
    "\n",
    "д) от минус двух сигм до двух сигм = 95,4%  \n",
    "\n",
    "е) меньше трех сигм и больше двух:"
   ]
  },
  {
   "cell_type": "code",
   "execution_count": 5,
   "metadata": {},
   "outputs": [
    {
     "data": {
      "text/plain": [
       "2.4399999999999977"
      ]
     },
     "execution_count": 5,
     "metadata": {},
     "output_type": "execute_result"
    }
   ],
   "source": [
    "(100-99.72)/2 + (100-95.4)/2"
   ]
  },
  {
   "cell_type": "markdown",
   "metadata": {},
   "source": [
    "ё) за пределами трех сигм = 100-99.72 = 0.28%  \n",
    "ж) меньше минус сигмы = 16%"
   ]
  },
  {
   "cell_type": "markdown",
   "metadata": {},
   "source": [
    "### задание 5\n",
    "\n",
    "На сколько сигм (средних квадратичных отклонений) отклоняется рост человека, равный 190 см,  \n",
    "от математического ожидания роста в популяции, в которой M(X) = 178 см и D(X) = 25 кв.см?\n",
    "\n",
    "Решение:  \n",
    "сначала найдем сигму как корень из 25, тогда зная среднюю мы определим разницу:"
   ]
  },
  {
   "cell_type": "code",
   "execution_count": 8,
   "metadata": {},
   "outputs": [
    {
     "data": {
      "text/plain": [
       "2.4"
      ]
     },
     "execution_count": 8,
     "metadata": {},
     "output_type": "execute_result"
    }
   ],
   "source": [
    "(190-178)/5"
   ]
  }
 ],
 "metadata": {
  "kernelspec": {
   "display_name": "Python 3",
   "language": "python",
   "name": "python3"
  },
  "language_info": {
   "codemirror_mode": {
    "name": "ipython",
    "version": 3
   },
   "file_extension": ".py",
   "mimetype": "text/x-python",
   "name": "python",
   "nbconvert_exporter": "python",
   "pygments_lexer": "ipython3",
   "version": "3.7.5"
  }
 },
 "nbformat": 4,
 "nbformat_minor": 2
}
