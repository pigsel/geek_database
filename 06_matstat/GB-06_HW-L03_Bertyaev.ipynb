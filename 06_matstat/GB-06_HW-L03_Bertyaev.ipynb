{
 "cells": [
  {
   "cell_type": "markdown",
   "metadata": {},
   "source": [
    "**Теория вероятностей и математическая статистика**\n",
    "\n",
    "\n",
    "**Урок 3.** Описательная статистика. Качественные и количественные характеристики популяции. Графическое представление данных\n",
    "\n",
    "Домашнее задание  \n",
    "автор: **Игорь Бертяев**"
   ]
  },
  {
   "cell_type": "markdown",
   "metadata": {},
   "source": [
    "### задание 1\n",
    "\n",
    "Даны значения зарплат из выборки выпускников: 100, 80, 75, 77, 89, 33, 45, 25, 65, 17, 30, 24, 57, 55, 70, 75, 65, 84, 90, 150.  \n",
    "Посчитать (желательно без использования статистических методов наподобие std, var, mean)  \n",
    "среднее арифметическое,  \n",
    "среднее квадратичное отклонение,  \n",
    "смещенную и несмещенную оценки дисперсий для данной выборки.\n",
    "\n",
    "Решение: "
   ]
  },
  {
   "cell_type": "code",
   "execution_count": 31,
   "metadata": {},
   "outputs": [],
   "source": [
    "import numpy as np\n",
    "from math import factorial"
   ]
  },
  {
   "cell_type": "code",
   "execution_count": 39,
   "metadata": {
    "scrolled": true
   },
   "outputs": [
    {
     "data": {
      "text/plain": [
       "array([100,  80,  75,  77,  89,  33,  45,  25,  65,  17,  30,  24,  57,\n",
       "        55,  70,  75,  65,  84,  90, 150])"
      ]
     },
     "execution_count": 39,
     "metadata": {},
     "output_type": "execute_result"
    }
   ],
   "source": [
    "z = np.array([100, 80, 75, 77, 89, 33, 45, 25, 65, 17, 30, 24, 57, 55, 70, 75, 65, 84, 90, 150])\n",
    "z"
   ]
  },
  {
   "cell_type": "code",
   "execution_count": 14,
   "metadata": {},
   "outputs": [
    {
     "data": {
      "text/plain": [
       "20"
      ]
     },
     "execution_count": 14,
     "metadata": {},
     "output_type": "execute_result"
    }
   ],
   "source": [
    "l = len(z)  ### количество \n",
    "l"
   ]
  },
  {
   "cell_type": "code",
   "execution_count": 19,
   "metadata": {},
   "outputs": [
    {
     "data": {
      "text/plain": [
       "1306"
      ]
     },
     "execution_count": 19,
     "metadata": {},
     "output_type": "execute_result"
    }
   ],
   "source": [
    "s = 0  ###  сумма \n",
    "for i in range(l):\n",
    "    s = s + z[i]\n",
    "s"
   ]
  },
  {
   "cell_type": "code",
   "execution_count": 22,
   "metadata": {},
   "outputs": [
    {
     "data": {
      "text/plain": [
       "1306"
      ]
     },
     "execution_count": 22,
     "metadata": {},
     "output_type": "execute_result"
    }
   ],
   "source": [
    "z.sum() ### проверим"
   ]
  },
  {
   "cell_type": "code",
   "execution_count": 16,
   "metadata": {},
   "outputs": [
    {
     "data": {
      "text/plain": [
       "65.3"
      ]
     },
     "execution_count": 16,
     "metadata": {},
     "output_type": "execute_result"
    }
   ],
   "source": [
    "M = s / l  ### среднее арифметическое / мат.ожидание\n",
    "M "
   ]
  },
  {
   "cell_type": "code",
   "execution_count": 21,
   "metadata": {},
   "outputs": [
    {
     "data": {
      "text/plain": [
       "65.3"
      ]
     },
     "execution_count": 21,
     "metadata": {},
     "output_type": "execute_result"
    }
   ],
   "source": [
    "z.mean()  ### проверка"
   ]
  },
  {
   "cell_type": "markdown",
   "metadata": {},
   "source": [
    "среднее квадратичное отклонение рассчитываем по формуле:  \n",
    "\n",
    "\n",
    "$$\\sigma = \\sqrt{\\frac{\\sum\\limits_{i=1}^{n} (x_i - \\overline{x})^2}{n}}$$"
   ]
  },
  {
   "cell_type": "code",
   "execution_count": 43,
   "metadata": {},
   "outputs": [
    {
     "data": {
      "text/plain": [
       "30.823854398825596"
      ]
     },
     "execution_count": 43,
     "metadata": {},
     "output_type": "execute_result"
    }
   ],
   "source": [
    "std = np.sqrt(((z - M)**2).sum()/l) ### СКО\n",
    "std"
   ]
  },
  {
   "cell_type": "code",
   "execution_count": 38,
   "metadata": {},
   "outputs": [
    {
     "data": {
      "text/plain": [
       "30.823854398825596"
      ]
     },
     "execution_count": 38,
     "metadata": {},
     "output_type": "execute_result"
    }
   ],
   "source": [
    "z.std()  ### проверка"
   ]
  },
  {
   "cell_type": "markdown",
   "metadata": {},
   "source": [
    "смещенная дисперсия:  \n",
    "    \n",
    "$$\\sigma^2 = \\frac{\\sum\\limits_{i=1}^{n} (x_i - \\overline{x})^2}{n}$$"
   ]
  },
  {
   "cell_type": "code",
   "execution_count": 50,
   "metadata": {},
   "outputs": [
    {
     "data": {
      "text/plain": [
       "950.11"
      ]
     },
     "execution_count": 50,
     "metadata": {},
     "output_type": "execute_result"
    }
   ],
   "source": [
    "var1 = ((z - M)**2).sum()/l ### дисперсия (смещенная)\n",
    "var1"
   ]
  },
  {
   "cell_type": "code",
   "execution_count": 46,
   "metadata": {},
   "outputs": [
    {
     "data": {
      "text/plain": [
       "1000.1157894736842"
      ]
     },
     "execution_count": 46,
     "metadata": {},
     "output_type": "execute_result"
    }
   ],
   "source": [
    "var2 = ((z - M)**2).sum()/(l-1) ### дисперсия (не смещенная)\n",
    "var2"
   ]
  },
  {
   "cell_type": "code",
   "execution_count": 48,
   "metadata": {},
   "outputs": [
    {
     "data": {
      "text/plain": [
       "950.11"
      ]
     },
     "execution_count": 48,
     "metadata": {},
     "output_type": "execute_result"
    }
   ],
   "source": [
    "z.var()  ### проверка - дисперсия (смещенная)"
   ]
  },
  {
   "cell_type": "code",
   "execution_count": 49,
   "metadata": {},
   "outputs": [
    {
     "data": {
      "text/plain": [
       "1000.1157894736842"
      ]
     },
     "execution_count": 49,
     "metadata": {},
     "output_type": "execute_result"
    }
   ],
   "source": [
    "z.var(ddof=1)  ### проверка - дисперсия (не смещенная)"
   ]
  },
  {
   "cell_type": "markdown",
   "metadata": {},
   "source": [
    "### задание 2\n",
    "\n",
    "В первом ящике находится 8 мячей, из которых 5 - белые.  \n",
    "Во втором ящике - 12 мячей, из которых 5 белых.  \n",
    "Из первого ящика вытаскивают случайным образом два мяча, из второго - 4.  \n",
    "Какова вероятность того, что 3 мяча белые?\n",
    "\n",
    "Решение:  \n",
    "вариантов получения белых всего три:  \n",
    "1) 2 из 1-го ящика и 1 из 2-го ящика  \n",
    "2) 1 из 1-го ящика и 2 из 2-го ящика  \n",
    "3) 0 из 1-го ящика и 3 из 2-го ящика  \n"
   ]
  },
  {
   "cell_type": "code",
   "execution_count": 53,
   "metadata": {},
   "outputs": [],
   "source": [
    "def combinations(n, k):\n",
    "    return int(factorial(n) / (factorial(k) * factorial(n - k)))"
   ]
  },
  {
   "cell_type": "code",
   "execution_count": 52,
   "metadata": {},
   "outputs": [
    {
     "data": {
      "text/plain": [
       "0.12626262626262627"
      ]
     },
     "execution_count": 52,
     "metadata": {},
     "output_type": "execute_result"
    }
   ],
   "source": [
    "# 1 случай - 2 из 1-го ящика и 1 из 2-го ящика\n",
    "p1 = (combinations(5, 2)/combinations(8, 2)) * ((combinations(5, 1)*combinations(7, 3))/combinations(12, 4))\n",
    "p1"
   ]
  },
  {
   "cell_type": "code",
   "execution_count": 51,
   "metadata": {},
   "outputs": [
    {
     "data": {
      "text/plain": [
       "0.22727272727272727"
      ]
     },
     "execution_count": 51,
     "metadata": {},
     "output_type": "execute_result"
    }
   ],
   "source": [
    "# 2 случай - 1 из 1-го ящика и 2 из 2-го ящика\n",
    "p2 = ((combinations(5, 1)*combinations(3, 1))/combinations(8, 2)) * ((combinations(5, 2)*combinations(7, 2))/combinations(12, 4))\n",
    "p2"
   ]
  },
  {
   "cell_type": "code",
   "execution_count": 49,
   "metadata": {},
   "outputs": [
    {
     "data": {
      "text/plain": [
       "0.01515151515151515"
      ]
     },
     "execution_count": 49,
     "metadata": {},
     "output_type": "execute_result"
    }
   ],
   "source": [
    "# 3 случай - 0 из 1-го ящика и 3 из 2-го ящика\n",
    "p3 = (combinations(3, 2)/combinations(8, 2)) * ((combinations(5, 3)*combinations(7, 1))/combinations(12, 4))\n",
    "p3"
   ]
  },
  {
   "cell_type": "code",
   "execution_count": 54,
   "metadata": {},
   "outputs": [
    {
     "data": {
      "text/plain": [
       "0.3686868686868687"
      ]
     },
     "execution_count": 54,
     "metadata": {},
     "output_type": "execute_result"
    }
   ],
   "source": [
    "P = p1 + p2 + p3  # общая вероятность (т.к. у нас \"или\" вероятности складываем)\n",
    "P"
   ]
  },
  {
   "cell_type": "markdown",
   "metadata": {},
   "source": [
    "### задание 3\n",
    "\n",
    "На соревновании по биатлону один из трех спортсменов стреляет и попадает в мишень.  \n",
    "Вероятность попадания  \n",
    "для первого спортсмена равна 0.9,  \n",
    "для второго — 0.8,  \n",
    "для третьего — 0.6.  \n",
    "Найти вероятность того, что выстрел произведен:  \n",
    "a). первым спортсменом  \n",
    "б). вторым спортсменом  \n",
    "в). третьим спортсменом.\n",
    "\n",
    "Решение: для того чтобы найти вероятность выстрела каждого из спортсменов будем определять по формуле Байеса т.к. события уже произошли. "
   ]
  },
  {
   "cell_type": "code",
   "execution_count": 62,
   "metadata": {},
   "outputs": [
    {
     "data": {
      "text/plain": [
       "0.391304347826087"
      ]
     },
     "execution_count": 62,
     "metadata": {},
     "output_type": "execute_result"
    }
   ],
   "source": [
    "P_1 = (1/3*0.9) / (1/3*0.9 + 1/3*0.8 + 1/3*0.6) # вероятность попадания первым спортсменом\n",
    "P_1"
   ]
  },
  {
   "cell_type": "code",
   "execution_count": 60,
   "metadata": {},
   "outputs": [
    {
     "data": {
      "text/plain": [
       "0.3478260869565218"
      ]
     },
     "execution_count": 60,
     "metadata": {},
     "output_type": "execute_result"
    }
   ],
   "source": [
    "P_2 = (1/3*0.8) / (1/3*0.9 + 1/3*0.8 + 1/3*0.6) # вероятность попадания вторым спортсменом\n",
    "P_2"
   ]
  },
  {
   "cell_type": "code",
   "execution_count": 61,
   "metadata": {},
   "outputs": [
    {
     "data": {
      "text/plain": [
       "0.2608695652173913"
      ]
     },
     "execution_count": 61,
     "metadata": {},
     "output_type": "execute_result"
    }
   ],
   "source": [
    "P_3 = (1/3*0.6) / (1/3*0.9 + 1/3*0.8 + 1/3*0.6) # вероятность попадания третьим спортсменом\n",
    "P_3"
   ]
  },
  {
   "cell_type": "markdown",
   "metadata": {},
   "source": [
    "### задание 4\n",
    "\n",
    "В университет на факультеты A и B поступило равное количество студентов,  \n",
    "а на факультет C студентов поступило столько же, сколько на A и B вместе.  \n",
    "Вероятность того, что  \n",
    "студент факультета A сдаст первую сессию, равна 0.8.  \n",
    "Для студента факультета B эта вероятность равна 0.7,  \n",
    "а для студента факультета C - 0.9.  \n",
    "Студент сдал первую сессию. Какова вероятность, что он учится:  \n",
    "a). на факультете A  \n",
    "б). на факультете B  \n",
    "в). на факультете C?\n",
    "\n",
    "решение: здесь будем также использовать формулу Байеса"
   ]
  },
  {
   "cell_type": "code",
   "execution_count": 64,
   "metadata": {},
   "outputs": [
    {
     "data": {
      "text/plain": [
       "0.24242424242424246"
      ]
     },
     "execution_count": 64,
     "metadata": {},
     "output_type": "execute_result"
    }
   ],
   "source": [
    "# вероятность факультета А  (для него и для В априорная вероятность 1/4, для С - 1/2)\n",
    "P_A = (1/4*0.8) / (1/4*0.8 + 1/4*0.7 + 1/2*0.9) \n",
    "P_A"
   ]
  },
  {
   "cell_type": "code",
   "execution_count": 65,
   "metadata": {},
   "outputs": [
    {
     "data": {
      "text/plain": [
       "0.21212121212121213"
      ]
     },
     "execution_count": 65,
     "metadata": {},
     "output_type": "execute_result"
    }
   ],
   "source": [
    "# вероятность факультета В \n",
    "P_B = (1/4*0.7) / (1/4*0.8 + 1/4*0.7 + 1/2*0.9) \n",
    "P_B"
   ]
  },
  {
   "cell_type": "code",
   "execution_count": 66,
   "metadata": {},
   "outputs": [
    {
     "data": {
      "text/plain": [
       "0.5454545454545455"
      ]
     },
     "execution_count": 66,
     "metadata": {},
     "output_type": "execute_result"
    }
   ],
   "source": [
    "# вероятность факультета C\n",
    "P_C = (1/2*0.9) / (1/4*0.8 + 1/4*0.7 + 1/2*0.9) \n",
    "P_C"
   ]
  },
  {
   "cell_type": "markdown",
   "metadata": {},
   "source": [
    "### задание 5\n",
    "\n",
    "Устройство состоит из трех деталей.  \n",
    "Для первой детали вероятность выйти из строя в первый месяц равна 0.1,  \n",
    "для второй - 0.2, для третьей - 0.25.  \n",
    "Какова вероятность того, что в первый месяц выйдут из строя:  \n",
    " а). все детали  \n",
    " б). только две детали  \n",
    " в). хотя бы одна деталь  \n",
    " г). от одной до двух деталей?\n",
    "\n",
    "решение:  "
   ]
  },
  {
   "cell_type": "code",
   "execution_count": 68,
   "metadata": {},
   "outputs": [
    {
     "data": {
      "text/plain": [
       "0.005000000000000001"
      ]
     },
     "execution_count": 68,
     "metadata": {},
     "output_type": "execute_result"
    }
   ],
   "source": [
    "# a)- перемножим вероятности чтобы найти общую\n",
    "0.1*0.2*0.25"
   ]
  },
  {
   "cell_type": "code",
   "execution_count": 69,
   "metadata": {},
   "outputs": [
    {
     "data": {
      "text/plain": [
       "0.08000000000000002"
      ]
     },
     "execution_count": 69,
     "metadata": {},
     "output_type": "execute_result"
    }
   ],
   "source": [
    "# b) три возможных случая складываем\n",
    "0.1*0.2*0.75 + 0.1*0.8*0.25 + 0.9*0.2*0.25"
   ]
  },
  {
   "cell_type": "code",
   "execution_count": 71,
   "metadata": {},
   "outputs": [
    {
     "data": {
      "text/plain": [
       "0.375"
      ]
     },
     "execution_count": 71,
     "metadata": {},
     "output_type": "execute_result"
    }
   ],
   "source": [
    "# в) так же три возможных случая\n",
    "0.1*0.8*0.75 + 0.9*0.2*0.75 + 0.9*0.8*0.25"
   ]
  },
  {
   "cell_type": "code",
   "execution_count": 73,
   "metadata": {},
   "outputs": [
    {
     "data": {
      "text/plain": [
       "0.455"
      ]
     },
     "execution_count": 73,
     "metadata": {},
     "output_type": "execute_result"
    }
   ],
   "source": [
    "# г) сложим вероятности поломки одной и двух \n",
    "0.08 + 0.375"
   ]
  }
 ],
 "metadata": {
  "kernelspec": {
   "display_name": "Python 3",
   "language": "python",
   "name": "python3"
  },
  "language_info": {
   "codemirror_mode": {
    "name": "ipython",
    "version": 3
   },
   "file_extension": ".py",
   "mimetype": "text/x-python",
   "name": "python",
   "nbconvert_exporter": "python",
   "pygments_lexer": "ipython3",
   "version": "3.7.5"
  }
 },
 "nbformat": 4,
 "nbformat_minor": 2
}
