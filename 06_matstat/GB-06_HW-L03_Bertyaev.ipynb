{
 "cells": [
  {
   "cell_type": "markdown",
   "metadata": {},
   "source": [
    "**Теория вероятностей и математическая статистика**\n",
    "\n",
    "\n",
    "**Урок 3.** Описательная статистика. Качественные и количественные характеристики популяции. Графическое представление данных\n",
    "\n",
    "Домашнее задание  \n",
    "автор: **Игорь Бертяев**"
   ]
  },
  {
   "cell_type": "markdown",
   "metadata": {},
   "source": [
    "### задание 1\n",
    "\n",
    "Даны значения зарплат из выборки выпускников: 100, 80, 75, 77, 89, 33, 45, 25, 65, 17, 30, 24, 57, 55, 70, 75, 65, 84, 90, 150.  \n",
    "Посчитать (желательно без использования статистических методов наподобие std, var, mean)  \n",
    "среднее арифметическое,  \n",
    "среднее квадратичное отклонение,  \n",
    "смещенную и несмещенную оценки дисперсий для данной выборки.\n",
    "\n",
    "Решение: "
   ]
  },
  {
   "cell_type": "code",
   "execution_count": 1,
   "metadata": {},
   "outputs": [],
   "source": [
    "import numpy as np"
   ]
  },
  {
   "cell_type": "code",
   "execution_count": 39,
   "metadata": {
    "scrolled": true
   },
   "outputs": [
    {
     "data": {
      "text/plain": [
       "array([100,  80,  75,  77,  89,  33,  45,  25,  65,  17,  30,  24,  57,\n",
       "        55,  70,  75,  65,  84,  90, 150])"
      ]
     },
     "execution_count": 39,
     "metadata": {},
     "output_type": "execute_result"
    }
   ],
   "source": [
    "z = np.array([100, 80, 75, 77, 89, 33, 45, 25, 65, 17, 30, 24, 57, 55, 70, 75, 65, 84, 90, 150])\n",
    "z"
   ]
  },
  {
   "cell_type": "code",
   "execution_count": 14,
   "metadata": {},
   "outputs": [
    {
     "data": {
      "text/plain": [
       "20"
      ]
     },
     "execution_count": 14,
     "metadata": {},
     "output_type": "execute_result"
    }
   ],
   "source": [
    "l = len(z)  ### количество \n",
    "l"
   ]
  },
  {
   "cell_type": "code",
   "execution_count": 19,
   "metadata": {},
   "outputs": [
    {
     "data": {
      "text/plain": [
       "1306"
      ]
     },
     "execution_count": 19,
     "metadata": {},
     "output_type": "execute_result"
    }
   ],
   "source": [
    "s = 0  ###  сумма \n",
    "for i in range(l):\n",
    "    s = s + z[i]\n",
    "s"
   ]
  },
  {
   "cell_type": "code",
   "execution_count": 22,
   "metadata": {},
   "outputs": [
    {
     "data": {
      "text/plain": [
       "1306"
      ]
     },
     "execution_count": 22,
     "metadata": {},
     "output_type": "execute_result"
    }
   ],
   "source": [
    "z.sum() ### проверим"
   ]
  },
  {
   "cell_type": "code",
   "execution_count": 16,
   "metadata": {},
   "outputs": [
    {
     "data": {
      "text/plain": [
       "65.3"
      ]
     },
     "execution_count": 16,
     "metadata": {},
     "output_type": "execute_result"
    }
   ],
   "source": [
    "M = s / l  ### среднее арифметическое / мат.ожидание\n",
    "M "
   ]
  },
  {
   "cell_type": "code",
   "execution_count": 21,
   "metadata": {},
   "outputs": [
    {
     "data": {
      "text/plain": [
       "65.3"
      ]
     },
     "execution_count": 21,
     "metadata": {},
     "output_type": "execute_result"
    }
   ],
   "source": [
    "z.mean()  ### проверка"
   ]
  },
  {
   "cell_type": "markdown",
   "metadata": {},
   "source": [
    "среднее квадратичное отклонение рассчитываем по формуле:  \n",
    "\n",
    "\n",
    "$$\\sigma = \\sqrt{\\frac{\\sum\\limits_{i=1}^{n} (x_i - \\overline{x})^2}{n}}$$"
   ]
  },
  {
   "cell_type": "code",
   "execution_count": 43,
   "metadata": {},
   "outputs": [
    {
     "data": {
      "text/plain": [
       "30.823854398825596"
      ]
     },
     "execution_count": 43,
     "metadata": {},
     "output_type": "execute_result"
    }
   ],
   "source": [
    "std = np.sqrt(((z - M)**2).sum()/l) ### СКО\n",
    "std"
   ]
  },
  {
   "cell_type": "code",
   "execution_count": 38,
   "metadata": {},
   "outputs": [
    {
     "data": {
      "text/plain": [
       "30.823854398825596"
      ]
     },
     "execution_count": 38,
     "metadata": {},
     "output_type": "execute_result"
    }
   ],
   "source": [
    "z.std()  ### проверка"
   ]
  },
  {
   "cell_type": "markdown",
   "metadata": {},
   "source": [
    "смещенная дисперсия:  \n",
    "    \n",
    "$$\\sigma^2 = \\frac{\\sum\\limits_{i=1}^{n} (x_i - \\overline{x})^2}{n}$$"
   ]
  },
  {
   "cell_type": "code",
   "execution_count": 50,
   "metadata": {},
   "outputs": [
    {
     "data": {
      "text/plain": [
       "950.11"
      ]
     },
     "execution_count": 50,
     "metadata": {},
     "output_type": "execute_result"
    }
   ],
   "source": [
    "var1 = ((z - M)**2).sum()/l ### дисперсия (смещенная)\n",
    "var1"
   ]
  },
  {
   "cell_type": "code",
   "execution_count": 46,
   "metadata": {},
   "outputs": [
    {
     "data": {
      "text/plain": [
       "1000.1157894736842"
      ]
     },
     "execution_count": 46,
     "metadata": {},
     "output_type": "execute_result"
    }
   ],
   "source": [
    "var2 = ((z - M)**2).sum()/(l-1) ### дисперсия (не смещенная)\n",
    "var2"
   ]
  },
  {
   "cell_type": "code",
   "execution_count": 48,
   "metadata": {},
   "outputs": [
    {
     "data": {
      "text/plain": [
       "950.11"
      ]
     },
     "execution_count": 48,
     "metadata": {},
     "output_type": "execute_result"
    }
   ],
   "source": [
    "z.var()  ### проверка - дисперсия (смещенная)"
   ]
  },
  {
   "cell_type": "code",
   "execution_count": 49,
   "metadata": {},
   "outputs": [
    {
     "data": {
      "text/plain": [
       "1000.1157894736842"
      ]
     },
     "execution_count": 49,
     "metadata": {},
     "output_type": "execute_result"
    }
   ],
   "source": [
    "z.var(ddof=1)  ### проверка - дисперсия (не смещенная)"
   ]
  },
  {
   "cell_type": "markdown",
   "metadata": {},
   "source": [
    "### задание 2\n",
    "\n",
    "В первом ящике находится 8 мячей, из которых 5 - белые.  \n",
    "Во втором ящике - 12 мячей, из которых 5 белых.  \n",
    "Из первого ящика вытаскивают случайным образом два мяча, из второго - 4.  \n",
    "Какова вероятность того, что 3 мяча белые?\n",
    "\n",
    "Решение:  \n",
    "вариантов получения белых всего три:  \n",
    "2 из 1-го ящика и 1 из 2-го ящика  \n",
    "1 из 1-го ящика и 2 из 2-го ящика  \n",
    "0 из 1-го ящика и 3 из 2-го ящика  \n"
   ]
  },
  {
   "cell_type": "code",
   "execution_count": 14,
   "metadata": {},
   "outputs": [
    {
     "data": {
      "text/plain": [
       "0.03720238095238095"
      ]
     },
     "execution_count": 14,
     "metadata": {},
     "output_type": "execute_result"
    }
   ],
   "source": [
    "# 1 случай\n",
    "p1 = 5/8*4/7 * 1/4*5/12\n",
    "p1"
   ]
  },
  {
   "cell_type": "code",
   "execution_count": 15,
   "metadata": {},
   "outputs": [
    {
     "data": {
      "text/plain": [
       "0.023674242424242428"
      ]
     },
     "execution_count": 15,
     "metadata": {},
     "output_type": "execute_result"
    }
   ],
   "source": [
    "# 2 случай\n",
    "p2 = 1/2*5/8 * 1/2*5/12*4/11\n",
    "p2"
   ]
  },
  {
   "cell_type": "code",
   "execution_count": 16,
   "metadata": {},
   "outputs": [
    {
     "data": {
      "text/plain": [
       "0.015625"
      ]
     },
     "execution_count": 16,
     "metadata": {},
     "output_type": "execute_result"
    }
   ],
   "source": [
    "# 3 случай (считаем не белые)\n",
    "p3 = 3/8*2/7 * 1/4*7/12\n",
    "p3"
   ]
  },
  {
   "cell_type": "code",
   "execution_count": 18,
   "metadata": {},
   "outputs": [
    {
     "data": {
      "text/plain": [
       "0.07650162337662338"
      ]
     },
     "execution_count": 18,
     "metadata": {},
     "output_type": "execute_result"
    }
   ],
   "source": [
    "P = p1 + p2 + p3  # т.к. у нас \"или\" вероятности складываем\n",
    "P"
   ]
  },
  {
   "cell_type": "markdown",
   "metadata": {},
   "source": [
    "### задание 3\n",
    "\n",
    "На соревновании по биатлону один из трех спортсменов стреляет и попадает в мишень.  \n",
    "Вероятность попадания для первого спортсмена равна 0.9, для второго — 0.8, для третьего — 0.6.  \n",
    "Найти вероятность того, что выстрел произведен:  \n",
    "a). первым спортсменом  \n",
    "б). вторым спортсменом  \n",
    "в). третьим спортсменом.\n",
    "\n",
    "Решение: "
   ]
  },
  {
   "cell_type": "markdown",
   "metadata": {},
   "source": [
    "### задание 4\n",
    "\n",
    "В университет на факультеты A и B поступило равное количество студентов,  \n",
    "а на факультет C студентов поступило столько же, сколько на A и B вместе.  \n",
    "Вероятность того, что студент факультета A сдаст первую сессию, равна 0.8.  \n",
    "Для студента факультета B эта вероятность равна 0.7,  \n",
    "а для студента факультета C - 0.9.  \n",
    "Студент сдал первую сессию. Какова вероятность, что он учится:  \n",
    "a). на факультете A  \n",
    "б). на факультете B  \n",
    "в). на факультете C?\n",
    "\n",
    "решение:  "
   ]
  },
  {
   "cell_type": "markdown",
   "metadata": {},
   "source": [
    "### задание 5\n",
    "\n",
    "Устройство состоит из трех деталей.  \n",
    "Для первой детали вероятность выйти из строя в первый месяц равна 0.1,  \n",
    "для второй - 0.2, для третьей - 0.25.  \n",
    "Какова вероятность того, что в первый месяц выйдут из строя:\n",
    " а). все детали  \n",
    " б). только две детали  \n",
    " в). хотя бы одна деталь  \n",
    " г). от одной до двух деталей?\n",
    "\n",
    "решение:  "
   ]
  }
 ],
 "metadata": {
  "kernelspec": {
   "display_name": "Python 3",
   "language": "python",
   "name": "python3"
  },
  "language_info": {
   "codemirror_mode": {
    "name": "ipython",
    "version": 3
   },
   "file_extension": ".py",
   "mimetype": "text/x-python",
   "name": "python",
   "nbconvert_exporter": "python",
   "pygments_lexer": "ipython3",
   "version": "3.7.5"
  }
 },
 "nbformat": 4,
 "nbformat_minor": 2
}
